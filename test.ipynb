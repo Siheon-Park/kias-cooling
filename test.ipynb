{
 "cells": [
  {
   "cell_type": "code",
   "execution_count": 2,
   "metadata": {},
   "outputs": [
    {
     "ename": "VisualizationError",
     "evalue": "'Invalid output type clifford selected. The only valid choices are text, latex, latex_source, and mpl'",
     "output_type": "error",
     "traceback": [
      "\u001b[0;31m---------------------------------------------------------------------------\u001b[0m",
      "\u001b[0;31mVisualizationError\u001b[0m                        Traceback (most recent call last)",
      "Cell \u001b[0;32mIn[2], line 6\u001b[0m\n\u001b[1;32m      4\u001b[0m \u001b[38;5;66;03m# Create a random circuit. Params, n_qubits = 5, depth = 4\u001b[39;00m\n\u001b[1;32m      5\u001b[0m qc \u001b[38;5;241m=\u001b[39m random_circuit(\u001b[38;5;241m5\u001b[39m, \u001b[38;5;241m4\u001b[39m, measure\u001b[38;5;241m=\u001b[39m\u001b[38;5;28;01mTrue\u001b[39;00m)\n\u001b[0;32m----> 6\u001b[0m qc\u001b[38;5;241m.\u001b[39mdraw(output\u001b[38;5;241m=\u001b[39m\u001b[38;5;124m'\u001b[39m\u001b[38;5;124mclifford\u001b[39m\u001b[38;5;124m'\u001b[39m)\n",
      "File \u001b[0;32m~/anaconda3/envs/qiskit/lib/python3.11/site-packages/qiskit/circuit/quantumcircuit.py:1807\u001b[0m, in \u001b[0;36mQuantumCircuit.draw\u001b[0;34m(self, output, scale, filename, style, interactive, plot_barriers, reverse_bits, justify, vertical_compression, idle_wires, with_layout, fold, ax, initial_state, cregbundle, wire_order, expr_len)\u001b[0m\n\u001b[1;32m   1804\u001b[0m \u001b[38;5;66;03m# pylint: disable=cyclic-import\u001b[39;00m\n\u001b[1;32m   1805\u001b[0m \u001b[38;5;28;01mfrom\u001b[39;00m \u001b[38;5;21;01mqiskit\u001b[39;00m\u001b[38;5;21;01m.\u001b[39;00m\u001b[38;5;21;01mvisualization\u001b[39;00m \u001b[38;5;28;01mimport\u001b[39;00m circuit_drawer\n\u001b[0;32m-> 1807\u001b[0m \u001b[38;5;28;01mreturn\u001b[39;00m circuit_drawer(\n\u001b[1;32m   1808\u001b[0m     \u001b[38;5;28mself\u001b[39m,\n\u001b[1;32m   1809\u001b[0m     scale\u001b[38;5;241m=\u001b[39mscale,\n\u001b[1;32m   1810\u001b[0m     filename\u001b[38;5;241m=\u001b[39mfilename,\n\u001b[1;32m   1811\u001b[0m     style\u001b[38;5;241m=\u001b[39mstyle,\n\u001b[1;32m   1812\u001b[0m     output\u001b[38;5;241m=\u001b[39moutput,\n\u001b[1;32m   1813\u001b[0m     interactive\u001b[38;5;241m=\u001b[39minteractive,\n\u001b[1;32m   1814\u001b[0m     plot_barriers\u001b[38;5;241m=\u001b[39mplot_barriers,\n\u001b[1;32m   1815\u001b[0m     reverse_bits\u001b[38;5;241m=\u001b[39mreverse_bits,\n\u001b[1;32m   1816\u001b[0m     justify\u001b[38;5;241m=\u001b[39mjustify,\n\u001b[1;32m   1817\u001b[0m     vertical_compression\u001b[38;5;241m=\u001b[39mvertical_compression,\n\u001b[1;32m   1818\u001b[0m     idle_wires\u001b[38;5;241m=\u001b[39midle_wires,\n\u001b[1;32m   1819\u001b[0m     with_layout\u001b[38;5;241m=\u001b[39mwith_layout,\n\u001b[1;32m   1820\u001b[0m     fold\u001b[38;5;241m=\u001b[39mfold,\n\u001b[1;32m   1821\u001b[0m     ax\u001b[38;5;241m=\u001b[39max,\n\u001b[1;32m   1822\u001b[0m     initial_state\u001b[38;5;241m=\u001b[39minitial_state,\n\u001b[1;32m   1823\u001b[0m     cregbundle\u001b[38;5;241m=\u001b[39mcregbundle,\n\u001b[1;32m   1824\u001b[0m     wire_order\u001b[38;5;241m=\u001b[39mwire_order,\n\u001b[1;32m   1825\u001b[0m     expr_len\u001b[38;5;241m=\u001b[39mexpr_len,\n\u001b[1;32m   1826\u001b[0m )\n",
      "File \u001b[0;32m~/anaconda3/envs/qiskit/lib/python3.11/site-packages/qiskit/visualization/circuit/circuit_visualization.py:339\u001b[0m, in \u001b[0;36mcircuit_drawer\u001b[0;34m(circuit, scale, filename, style, output, interactive, plot_barriers, reverse_bits, justify, vertical_compression, idle_wires, with_layout, fold, ax, initial_state, cregbundle, wire_order, expr_len)\u001b[0m\n\u001b[1;32m    321\u001b[0m     image \u001b[38;5;241m=\u001b[39m _matplotlib_circuit_drawer(\n\u001b[1;32m    322\u001b[0m         circuit,\n\u001b[1;32m    323\u001b[0m         scale\u001b[38;5;241m=\u001b[39mscale,\n\u001b[0;32m   (...)\u001b[0m\n\u001b[1;32m    336\u001b[0m         expr_len\u001b[38;5;241m=\u001b[39mexpr_len,\n\u001b[1;32m    337\u001b[0m     )\n\u001b[1;32m    338\u001b[0m \u001b[38;5;28;01melse\u001b[39;00m:\n\u001b[0;32m--> 339\u001b[0m     \u001b[38;5;28;01mraise\u001b[39;00m VisualizationError(\n\u001b[1;32m    340\u001b[0m         \u001b[38;5;124m\"\u001b[39m\u001b[38;5;124mInvalid output type \u001b[39m\u001b[38;5;132;01m%s\u001b[39;00m\u001b[38;5;124m selected. The only valid choices \u001b[39m\u001b[38;5;124m\"\u001b[39m\n\u001b[1;32m    341\u001b[0m         \u001b[38;5;124m\"\u001b[39m\u001b[38;5;124mare text, latex, latex_source, and mpl\u001b[39m\u001b[38;5;124m\"\u001b[39m \u001b[38;5;241m%\u001b[39m output\n\u001b[1;32m    342\u001b[0m     )\n\u001b[1;32m    343\u001b[0m \u001b[38;5;28;01mif\u001b[39;00m image \u001b[38;5;129;01mand\u001b[39;00m interactive:\n\u001b[1;32m    344\u001b[0m     image\u001b[38;5;241m.\u001b[39mshow()\n",
      "\u001b[0;31mVisualizationError\u001b[0m: 'Invalid output type clifford selected. The only valid choices are text, latex, latex_source, and mpl'"
     ]
    }
   ],
   "source": [
    "from qiskit.circuit.random import random_circuit\n",
    "from qiskit import QuantumCircuit\n",
    "\n",
    "# Create a random circuit. Params, n_qubits = 5, depth = 4\n",
    "qc = random_circuit(5, 4, measure=True)\n",
    "qc.draw(output='clifford')\n"
   ]
  },
  {
   "cell_type": "code",
   "execution_count": 25,
   "metadata": {},
   "outputs": [
    {
     "data": {
      "image/png": "[encoded data removed]",
      "text/plain": [
       "<Figure size 872.774x367.889 with 1 Axes>"
      ]
     },
     "execution_count": 25,
     "metadata": {},
     "output_type": "execute_result"
    }
   ],
   "source": [
    "from qiskit import QuantumCircuit, QuantumRegister, ClassicalRegister\n",
    "import numpy as np\n",
    "from qiskit.quantum_info import random_unitary\n",
    "\n",
    "# Create a quantum teleportation circuit\n",
    "q = QuantumRegister(3, 'q')\n",
    "c = ClassicalRegister(3, 'c')\n",
    "qc = QuantumCircuit(q, c)\n",
    "unitary = random_unitary(2)\n",
    "qc.unitary(unitary, q[0])\n",
    "qc.h(q[1])\n",
    "qc.h(q[2])\n",
    "qc.cz(q[1], q[2])\n",
    "qc.cz(q[0], q[1])\n",
    "qc.h(q[0])\n",
    "qc.h(q[1])\n",
    "qc.measure(q[0], c[0])\n",
    "qc.measure(q[1], c[1])\n",
    "\n",
    "qc.x(q[2]).c_if(c[1], 1)\n",
    "qc.z(q[2]).c_if(c[0], 1)\n",
    "\n",
    "qc.unitary(unitary.adjoint(), q[2])\n",
    "qc.measure(q[2], c[2])\n",
    "\n",
    "qc.draw(output='mpl')\n",
    "\n"
   ]
  },
  {
   "cell_type": "code",
   "execution_count": 24,
   "metadata": {},
   "outputs": [
    {
     "name": "stdout",
     "output_type": "stream",
     "text": [
      "Fidelity = 1.0\n"
     ]
    }
   ],
   "source": [
    "from qiskit_aer.primitives import Sampler\n",
    "from qiskit.visualization import plot_histogram\n",
    "\n",
    "sampler = Sampler()\n",
    "job = sampler.run(qc)\n",
    "result = job.result()\n",
    "counts = result.quasi_dists[0]\n",
    "fidelity = counts.get(0, 0) + counts.get(1, 0) + counts.get(2, 0) + counts.get(3, 0)\n",
    "fidelity /= sum(counts.values())\n",
    "print('Fidelity =', fidelity)"
   ]
  },
  {
   "cell_type": "code",
   "execution_count": null,
   "metadata": {},
   "outputs": [],
   "source": []
  }
 ],
 "metadata": {
  "kernelspec": {
   "display_name": "qiskit",
   "language": "python",
   "name": "python3"
  },
  "language_info": {
   "codemirror_mode": {
    "name": "ipython",
    "version": 3
   },
   "file_extension": ".py",
   "mimetype": "text/x-python",
   "name": "python",
   "nbconvert_exporter": "python",
   "pygments_lexer": "ipython3",
   "version": "3.11.0"
  }
 },
 "nbformat": 4,
 "nbformat_minor": 2
}
